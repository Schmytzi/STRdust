{
 "cells": [
  {
   "cell_type": "code",
   "execution_count": 52,
   "metadata": {},
   "outputs": [],
   "source": [
    "from cyvcf2 import VCF\n",
    "from collections import defaultdict\n",
    "import glob\n",
    "import pandas as pd\n",
    "from os.path import basename"
   ]
  },
  {
   "cell_type": "code",
   "execution_count": 53,
   "metadata": {},
   "outputs": [
    {
     "name": "stderr",
     "output_type": "stream",
     "text": [
      "[W::bcf_hdr_register_hrec] An INFO field has no Number defined. Assuming '.'\n",
      "[W::bcf_hdr_register_hrec] The definition of Flag \"INFO/CLUSTERFAILURE\" is invalid, forcing Number=0\n"
     ]
    },
    {
     "ename": "TypeError",
     "evalue": "'NoneType' object is not iterable",
     "output_type": "error",
     "traceback": [
      "\u001b[0;31m---------------------------------------------------------------------------\u001b[0m",
      "\u001b[0;31mTypeError\u001b[0m                                 Traceback (most recent call last)",
      "Cell \u001b[0;32mIn[53], line 8\u001b[0m\n\u001b[1;32m      6\u001b[0m     vcf \u001b[39m=\u001b[39m VCF(vcff)\n\u001b[1;32m      7\u001b[0m     \u001b[39mfor\u001b[39;00m v \u001b[39min\u001b[39;00m vcf:\n\u001b[0;32m----> 8\u001b[0m         genotypes[\u001b[39mf\u001b[39m\u001b[39m\"\u001b[39m\u001b[39m{\u001b[39;00mv\u001b[39m.\u001b[39mCHROM\u001b[39m}\u001b[39;00m\u001b[39m:\u001b[39m\u001b[39m{\u001b[39;00mv\u001b[39m.\u001b[39mstart\u001b[39m}\u001b[39;00m\u001b[39m\"\u001b[39m]\u001b[39m.\u001b[39mappend(\u001b[39m'\u001b[39m\u001b[39m|\u001b[39m\u001b[39m'\u001b[39m\u001b[39m.\u001b[39mjoin([\u001b[39mstr\u001b[39m(s) \u001b[39mfor\u001b[39;00m s \u001b[39min\u001b[39;00m \u001b[39mlist\u001b[39;49m(v\u001b[39m.\u001b[39;49mINFO\u001b[39m.\u001b[39;49mget(\u001b[39m'\u001b[39;49m\u001b[39mRL\u001b[39;49m\u001b[39m'\u001b[39;49m))]))\n\u001b[1;32m      9\u001b[0m df \u001b[39m=\u001b[39m pd\u001b[39m.\u001b[39mDataFrame(genotypes, index\u001b[39m=\u001b[39msamples)\n\u001b[1;32m     10\u001b[0m df\u001b[39m.\u001b[39msort_index(inplace\u001b[39m=\u001b[39m\u001b[39mTrue\u001b[39;00m)\n",
      "\u001b[0;31mTypeError\u001b[0m: 'NoneType' object is not iterable"
     ]
    }
   ],
   "source": [
    "genotypes = defaultdict(list)\n",
    "samples = []\n",
    "for vcff in glob.glob(\"/home/wdecoster/temp/om_*.vcf\"):\n",
    "    if \"_00\" in vcff: continue\n",
    "    samples.append(basename(vcff).replace('.vcf', ''))\n",
    "    vcf = VCF(vcff)\n",
    "    for v in vcf:\n",
    "        genotypes[f\"{v.CHROM}:{v.start}\"].append('|'.join([str(s) for s in list(v.INFO.get('RB'))]))\n",
    "df = pd.DataFrame(genotypes, index=samples)\n",
    "df.sort_index(inplace=True)\n",
    "df.rename(columns = {\"3:129172576\": 'CNBP/DM2', \"4:39348424\": \"RFC1/CANVAS\", \"19:45770204\": \"DMPK/DM1\"})"
   ]
  },
  {
   "cell_type": "code",
   "execution_count": 49,
   "metadata": {},
   "outputs": [
    {
     "data": {
      "text/plain": [
       "644.0"
      ]
     },
     "execution_count": 49,
     "metadata": {},
     "output_type": "execute_result"
    }
   ],
   "source": [
    "1932/3"
   ]
  },
  {
   "cell_type": "code",
   "execution_count": 50,
   "metadata": {},
   "outputs": [
    {
     "data": {
      "text/plain": [
       "38.666666666666664"
      ]
     },
     "execution_count": 50,
     "metadata": {},
     "output_type": "execute_result"
    }
   ],
   "source": [
    "116/3"
   ]
  },
  {
   "cell_type": "code",
   "execution_count": 51,
   "metadata": {},
   "outputs": [
    {
     "data": {
      "text/plain": [
       "1107.0"
      ]
     },
     "execution_count": 51,
     "metadata": {},
     "output_type": "execute_result"
    }
   ],
   "source": [
    "3321 / 3"
   ]
  },
  {
   "cell_type": "code",
   "execution_count": null,
   "metadata": {},
   "outputs": [],
   "source": []
  }
 ],
 "metadata": {
  "kernelspec": {
   "display_name": "base",
   "language": "python",
   "name": "python3"
  },
  "language_info": {
   "codemirror_mode": {
    "name": "ipython",
    "version": 3
   },
   "file_extension": ".py",
   "mimetype": "text/x-python",
   "name": "python",
   "nbconvert_exporter": "python",
   "pygments_lexer": "ipython3",
   "version": "3.10.8"
  },
  "orig_nbformat": 4
 },
 "nbformat": 4,
 "nbformat_minor": 2
}
