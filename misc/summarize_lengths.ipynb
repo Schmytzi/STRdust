{
 "cells": [
  {
   "cell_type": "code",
   "execution_count": 5,
   "metadata": {},
   "outputs": [],
   "source": [
    "from cyvcf2 import VCF\n",
    "from collections import defaultdict\n",
    "import glob\n",
    "import pandas as pd\n",
    "from os.path import basename"
   ]
  },
  {
   "cell_type": "code",
   "execution_count": 18,
   "metadata": {},
   "outputs": [
    {
     "name": "stderr",
     "output_type": "stream",
     "text": [
      "[W::vcf_parse_info] INFO 'OUTLIERS' is not defined in the header, assuming Type=String\n",
      "[W::vcf_parse_info] INFO 'OUTLIERS' is not defined in the header, assuming Type=String\n",
      "[W::vcf_parse_info] INFO 'OUTLIERS' is not defined in the header, assuming Type=String\n",
      "[W::vcf_parse_info] INFO 'OUTLIERS' is not defined in the header, assuming Type=String\n",
      "[W::vcf_parse_info] INFO 'OUTLIERS' is not defined in the header, assuming Type=String\n",
      "[W::vcf_parse_info] INFO 'OUTLIERS' is not defined in the header, assuming Type=String\n",
      "[W::vcf_parse_info] INFO 'OUTLIERS' is not defined in the header, assuming Type=String\n",
      "[W::vcf_parse_info] INFO 'OUTLIERS' is not defined in the header, assuming Type=String\n",
      "[W::vcf_parse_info] INFO 'OUTLIERS' is not defined in the header, assuming Type=String\n"
     ]
    },
    {
     "data": {
      "text/html": [
       "<div>\n",
       "<style scoped>\n",
       "    .dataframe tbody tr th:only-of-type {\n",
       "        vertical-align: middle;\n",
       "    }\n",
       "\n",
       "    .dataframe tbody tr th {\n",
       "        vertical-align: top;\n",
       "    }\n",
       "\n",
       "    .dataframe thead th {\n",
       "        text-align: right;\n",
       "    }\n",
       "</style>\n",
       "<table border=\"1\" class=\"dataframe\">\n",
       "  <thead>\n",
       "    <tr style=\"text-align: right;\">\n",
       "      <th></th>\n",
       "      <th>CNBP/DM2</th>\n",
       "      <th>RFC1/CANVAS</th>\n",
       "      <th>DMPK/DM1</th>\n",
       "    </tr>\n",
       "  </thead>\n",
       "  <tbody>\n",
       "    <tr>\n",
       "      <th>om_088</th>\n",
       "      <td>-15|-23</td>\n",
       "      <td>8|2851</td>\n",
       "      <td>-22|2501</td>\n",
       "    </tr>\n",
       "    <tr>\n",
       "      <th>om_090</th>\n",
       "      <td>-23|-15</td>\n",
       "      <td>282|479</td>\n",
       "      <td>104|-42</td>\n",
       "    </tr>\n",
       "    <tr>\n",
       "      <th>om_091</th>\n",
       "      <td>-27|-13</td>\n",
       "      <td>-2|3</td>\n",
       "      <td>-26|2857</td>\n",
       "    </tr>\n",
       "    <tr>\n",
       "      <th>om_093</th>\n",
       "      <td>-19|-13</td>\n",
       "      <td>None|None</td>\n",
       "      <td>-17|-44</td>\n",
       "    </tr>\n",
       "    <tr>\n",
       "      <th>om_095</th>\n",
       "      <td>-3|-11</td>\n",
       "      <td>-8|358</td>\n",
       "      <td>-43|5083</td>\n",
       "    </tr>\n",
       "    <tr>\n",
       "      <th>om_096</th>\n",
       "      <td>-11|-17</td>\n",
       "      <td>-3|3</td>\n",
       "      <td>7|-26</td>\n",
       "    </tr>\n",
       "    <tr>\n",
       "      <th>om_097</th>\n",
       "      <td>366|-17</td>\n",
       "      <td>-14|492</td>\n",
       "      <td>-23|-27</td>\n",
       "    </tr>\n",
       "    <tr>\n",
       "      <th>om_098</th>\n",
       "      <td>-29|-23</td>\n",
       "      <td>-13|-3</td>\n",
       "      <td>-19|2143</td>\n",
       "    </tr>\n",
       "    <tr>\n",
       "      <th>om_103</th>\n",
       "      <td>-16|-31</td>\n",
       "      <td>2338|2026</td>\n",
       "      <td>-44|-20</td>\n",
       "    </tr>\n",
       "    <tr>\n",
       "      <th>om_103_dorado_fast.bam</th>\n",
       "      <td>-15|-29</td>\n",
       "      <td>2348|2348</td>\n",
       "      <td>-42|-18</td>\n",
       "    </tr>\n",
       "  </tbody>\n",
       "</table>\n",
       "</div>"
      ],
      "text/plain": [
       "                       CNBP/DM2 RFC1/CANVAS  DMPK/DM1\n",
       "om_088                  -15|-23      8|2851  -22|2501\n",
       "om_090                  -23|-15     282|479   104|-42\n",
       "om_091                  -27|-13        -2|3  -26|2857\n",
       "om_093                  -19|-13   None|None   -17|-44\n",
       "om_095                   -3|-11      -8|358  -43|5083\n",
       "om_096                  -11|-17        -3|3     7|-26\n",
       "om_097                  366|-17     -14|492   -23|-27\n",
       "om_098                  -29|-23      -13|-3  -19|2143\n",
       "om_103                  -16|-31   2338|2026   -44|-20\n",
       "om_103_dorado_fast.bam  -15|-29   2348|2348   -42|-18"
      ]
     },
     "execution_count": 18,
     "metadata": {},
     "output_type": "execute_result"
    }
   ],
   "source": [
    "genotypes = defaultdict(list)\n",
    "samples = []\n",
    "for vcff in glob.glob(\"/home/wdecoster/temp/om_*.vcf\"):\n",
    "    if \"_00\" in vcff: continue\n",
    "    samples.append(basename(vcff).replace('.vcf', ''))\n",
    "    vcf = VCF(vcff)\n",
    "    for v in vcf:\n",
    "        genotypes[f\"{v.CHROM}:{v.start}\"].append('|'.join([str(s) for s in list(v.INFO.get('RB'))]))\n",
    "df = pd.DataFrame(genotypes, index=samples)\n",
    "df.sort_index(inplace=True)\n",
    "df.rename(columns = {\"3:129172572\": 'CNBP/DM2', \"4:39348424\": \"RFC1/CANVAS\", \"19:45770204\": \"DMPK/DM1\"})"
   ]
  },
  {
   "cell_type": "code",
   "execution_count": 20,
   "metadata": {},
   "outputs": [
    {
     "name": "stderr",
     "output_type": "stream",
     "text": [
      "[W::vcf_parse_info] INFO 'OUTLIERS' is not defined in the header, assuming Type=String\n",
      "[W::vcf_parse_info] INFO 'OUTLIERS' is not defined in the header, assuming Type=String\n",
      "[W::vcf_parse_info] INFO 'OUTLIERS' is not defined in the header, assuming Type=String\n",
      "[W::vcf_parse_info] INFO 'OUTLIERS' is not defined in the header, assuming Type=String\n",
      "[W::vcf_parse_info] INFO 'OUTLIERS' is not defined in the header, assuming Type=String\n",
      "[W::vcf_parse_info] INFO 'OUTLIERS' is not defined in the header, assuming Type=String\n",
      "[W::vcf_parse_info] INFO 'OUTLIERS' is not defined in the header, assuming Type=String\n",
      "[W::vcf_parse_info] INFO 'OUTLIERS' is not defined in the header, assuming Type=String\n",
      "[W::vcf_parse_info] INFO 'OUTLIERS' is not defined in the header, assuming Type=String\n"
     ]
    },
    {
     "data": {
      "text/html": [
       "<div>\n",
       "<style scoped>\n",
       "    .dataframe tbody tr th:only-of-type {\n",
       "        vertical-align: middle;\n",
       "    }\n",
       "\n",
       "    .dataframe tbody tr th {\n",
       "        vertical-align: top;\n",
       "    }\n",
       "\n",
       "    .dataframe thead th {\n",
       "        text-align: right;\n",
       "    }\n",
       "</style>\n",
       "<table border=\"1\" class=\"dataframe\">\n",
       "  <thead>\n",
       "    <tr style=\"text-align: right;\">\n",
       "      <th></th>\n",
       "      <th>CNBP/DM2</th>\n",
       "      <th>RFC1/CANVAS</th>\n",
       "      <th>DMPK/DM1</th>\n",
       "    </tr>\n",
       "  </thead>\n",
       "  <tbody>\n",
       "    <tr>\n",
       "      <th>om_088</th>\n",
       "      <td></td>\n",
       "      <td>2700,2894,2315,3067,3138,2933,3214,2607,2983,2...</td>\n",
       "      <td>2752,2681,2461,2714,4336,2941,2570,2561,2754,3...</td>\n",
       "    </tr>\n",
       "    <tr>\n",
       "      <th>om_090</th>\n",
       "      <td></td>\n",
       "      <td>1016</td>\n",
       "      <td>299</td>\n",
       "    </tr>\n",
       "    <tr>\n",
       "      <th>om_091</th>\n",
       "      <td></td>\n",
       "      <td></td>\n",
       "      <td>2843,3063,3461,3550,2585,3008,3244,3136,3602,3...</td>\n",
       "    </tr>\n",
       "    <tr>\n",
       "      <th>om_093</th>\n",
       "      <td></td>\n",
       "      <td></td>\n",
       "      <td></td>\n",
       "    </tr>\n",
       "    <tr>\n",
       "      <th>om_095</th>\n",
       "      <td></td>\n",
       "      <td>395,419,400,406,393,413,397,404,404,407,405,40...</td>\n",
       "      <td>6279,6358,6346,5975,4371,5515,5507,5451,5511,6...</td>\n",
       "    </tr>\n",
       "    <tr>\n",
       "      <th>om_096</th>\n",
       "      <td>11534,3012,13580,4381,4385,6248,6068,1047,5248...</td>\n",
       "      <td></td>\n",
       "      <td>216</td>\n",
       "    </tr>\n",
       "    <tr>\n",
       "      <th>om_097</th>\n",
       "      <td>668,516,478,543,460,590</td>\n",
       "      <td>506,509,527,523,520,550,546,476,520,550,518,53...</td>\n",
       "      <td></td>\n",
       "    </tr>\n",
       "    <tr>\n",
       "      <th>om_098</th>\n",
       "      <td></td>\n",
       "      <td></td>\n",
       "      <td>3195,1625,1890,2080,2548,2172,2885,1611,1725,2...</td>\n",
       "    </tr>\n",
       "    <tr>\n",
       "      <th>om_103</th>\n",
       "      <td></td>\n",
       "      <td></td>\n",
       "      <td>41,37,41,41,40,40,41,37,38,36,37,38,40,37,38,4...</td>\n",
       "    </tr>\n",
       "    <tr>\n",
       "      <th>om_103_dorado_fast.bam</th>\n",
       "      <td></td>\n",
       "      <td></td>\n",
       "      <td>43,39,40,35,39,40,38,38,35,40,37,36,38,40,37,4...</td>\n",
       "    </tr>\n",
       "  </tbody>\n",
       "</table>\n",
       "</div>"
      ],
      "text/plain": [
       "                                                                 CNBP/DM2  \\\n",
       "om_088                                                                      \n",
       "om_090                                                                      \n",
       "om_091                                                                      \n",
       "om_093                                                                      \n",
       "om_095                                                                      \n",
       "om_096                  11534,3012,13580,4381,4385,6248,6068,1047,5248...   \n",
       "om_097                                            668,516,478,543,460,590   \n",
       "om_098                                                                      \n",
       "om_103                                                                      \n",
       "om_103_dorado_fast.bam                                                      \n",
       "\n",
       "                                                              RFC1/CANVAS  \\\n",
       "om_088                  2700,2894,2315,3067,3138,2933,3214,2607,2983,2...   \n",
       "om_090                                                               1016   \n",
       "om_091                                                                      \n",
       "om_093                                                                      \n",
       "om_095                  395,419,400,406,393,413,397,404,404,407,405,40...   \n",
       "om_096                                                                      \n",
       "om_097                  506,509,527,523,520,550,546,476,520,550,518,53...   \n",
       "om_098                                                                      \n",
       "om_103                                                                      \n",
       "om_103_dorado_fast.bam                                                      \n",
       "\n",
       "                                                                 DMPK/DM1  \n",
       "om_088                  2752,2681,2461,2714,4336,2941,2570,2561,2754,3...  \n",
       "om_090                                                                299  \n",
       "om_091                  2843,3063,3461,3550,2585,3008,3244,3136,3602,3...  \n",
       "om_093                                                                     \n",
       "om_095                  6279,6358,6346,5975,4371,5515,5507,5451,5511,6...  \n",
       "om_096                                                                216  \n",
       "om_097                                                                     \n",
       "om_098                  3195,1625,1890,2080,2548,2172,2885,1611,1725,2...  \n",
       "om_103                  41,37,41,41,40,40,41,37,38,36,37,38,40,37,38,4...  \n",
       "om_103_dorado_fast.bam  43,39,40,35,39,40,38,38,35,40,37,36,38,40,37,4...  "
      ]
     },
     "execution_count": 20,
     "metadata": {},
     "output_type": "execute_result"
    }
   ],
   "source": [
    "outliers = defaultdict(list)\n",
    "samples = []\n",
    "for vcff in glob.glob(\"/home/wdecoster/temp/om_*.vcf\"):\n",
    "    if \"_00\" in vcff: continue\n",
    "    samples.append(basename(vcff).replace('.vcf', ''))\n",
    "    vcf = VCF(vcff)\n",
    "    for v in vcf:\n",
    "        outlier_seqs = v.INFO.get('OUTLIERS').split(':') if v.INFO.get('OUTLIERS') else []\n",
    "        outliers[f\"{v.CHROM}:{v.start}\"].append(','.join([str(len(i)) for i in outlier_seqs]))\n",
    "df = pd.DataFrame(outliers, index=samples)\n",
    "df.sort_index(inplace=True)\n",
    "df.rename(columns = {\"3:129172572\": 'CNBP/DM2', \"4:39348424\": \"RFC1/CANVAS\", \"19:45770204\": \"DMPK/DM1\"})"
   ]
  },
  {
   "cell_type": "code",
   "execution_count": 50,
   "metadata": {},
   "outputs": [
    {
     "data": {
      "text/plain": [
       "38.666666666666664"
      ]
     },
     "execution_count": 50,
     "metadata": {},
     "output_type": "execute_result"
    }
   ],
   "source": [
    "116/3"
   ]
  },
  {
   "cell_type": "code",
   "execution_count": 51,
   "metadata": {},
   "outputs": [
    {
     "data": {
      "text/plain": [
       "1107.0"
      ]
     },
     "execution_count": 51,
     "metadata": {},
     "output_type": "execute_result"
    }
   ],
   "source": [
    "3321 / 3"
   ]
  },
  {
   "cell_type": "code",
   "execution_count": null,
   "metadata": {},
   "outputs": [],
   "source": []
  }
 ],
 "metadata": {
  "kernelspec": {
   "display_name": "base",
   "language": "python",
   "name": "python3"
  },
  "language_info": {
   "codemirror_mode": {
    "name": "ipython",
    "version": 3
   },
   "file_extension": ".py",
   "mimetype": "text/x-python",
   "name": "python",
   "nbconvert_exporter": "python",
   "pygments_lexer": "ipython3",
   "version": "3.10.8"
  },
  "orig_nbformat": 4
 },
 "nbformat": 4,
 "nbformat_minor": 2
}
