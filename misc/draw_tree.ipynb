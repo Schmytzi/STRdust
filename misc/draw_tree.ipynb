{
 "cells": [
  {
   "cell_type": "code",
   "execution_count": 7,
   "metadata": {},
   "outputs": [
    {
     "name": "stdout",
     "output_type": "stream",
     "text": [
      "Requirement already satisfied: pygraphviz in /home/wdecoster/miniconda3/lib/python3.9/site-packages (1.11)\n",
      "Note: you may need to restart the kernel to use updated packages.\n"
     ]
    }
   ],
   "source": [
    "%pip install pygraphviz\n",
    "\n",
    "import pygraphviz as pgv\n",
    "\n"
   ]
  },
  {
   "cell_type": "code",
   "execution_count": 23,
   "metadata": {},
   "outputs": [],
   "source": [
    "log = \"/home/wdecoster/temp/slurm-2106.out\"\n",
    "\n",
    "graph = False\n",
    "G = pgv.AGraph(directed=True)\n",
    "G.node_attr['style']='filled'\n",
    "\n",
    "label = 1\n",
    "\n",
    "with open(log) as f:\n",
    "    for line in f:\n",
    "        if \"DEBUG STRdust::phase_insertions] Minimum cluster size:\" in line and graph:\n",
    "            G.layout(prog='dot')\n",
    "            G.draw(f\"graph_{label}.png\")\n",
    "            # when done, reset\n",
    "            label += 1 \n",
    "            G = pgv.AGraph(directed=True)\n",
    "            G.node_attr['style']='filled'\n",
    "\n",
    "            continue \n",
    "        if \"DEBUG STRdust::phase_insertions] Node\" in line:\n",
    "            graph = True\n",
    "            node = line.split(' ')[4]\n",
    "            children = (line.split(' ')[10], line.split(' ')[13])\n",
    "            try:\n",
    "                G.add_edge(node, children[0])\n",
    "                G.add_edge(node, children[1])\n",
    "            except KeyError:  # In the case that this sample doesn't have a parent, is root or orphan\n",
    "                G.add_node(node)\n",
    "        if \" DEBUG STRdust::phase_insertions] Roots for this tree:\" in line:\n",
    "            for root in line.split(':')[-1].replace(' ', '').replace('\\n', '').replace('[', '').replace(']', '').split(','):\n",
    "                n = G.get_node(root)\n",
    "                n.attr['fillcolor']=\"#CCCCFF\"\n",
    "    else:\n",
    "        G.layout(prog='dot')\n",
    "        G.draw(f\"graph_{label}.png\")\n",
    "        \n"
   ]
  },
  {
   "cell_type": "code",
   "execution_count": 10,
   "metadata": {},
   "outputs": [
    {
     "data": {
      "text/plain": [
       "'/home/wdecoster/wsl-repos/STRdust/misc'"
      ]
     },
     "execution_count": 10,
     "metadata": {},
     "output_type": "execute_result"
    }
   ],
   "source": [
    "import os\n",
    "os.getcwd()"
   ]
  }
 ],
 "metadata": {
  "kernelspec": {
   "display_name": "base",
   "language": "python",
   "name": "python3"
  },
  "language_info": {
   "codemirror_mode": {
    "name": "ipython",
    "version": 3
   },
   "file_extension": ".py",
   "mimetype": "text/x-python",
   "name": "python",
   "nbconvert_exporter": "python",
   "pygments_lexer": "ipython3",
   "version": "3.9.13"
  },
  "orig_nbformat": 4
 },
 "nbformat": 4,
 "nbformat_minor": 2
}
