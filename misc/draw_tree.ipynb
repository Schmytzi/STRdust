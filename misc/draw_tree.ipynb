{
 "cells": [
  {
   "cell_type": "code",
   "execution_count": 2,
   "metadata": {},
   "outputs": [
    {
     "name": "stdout",
     "output_type": "stream",
     "text": [
      "Requirement already satisfied: pygraphviz in /home/wdecoster/miniconda3/lib/python3.9/site-packages (1.11)\n",
      "Note: you may need to restart the kernel to use updated packages.\n"
     ]
    }
   ],
   "source": [
    "%pip install pygraphviz\n",
    "\n",
    "import pygraphviz as pgv\n",
    "\n"
   ]
  },
  {
   "cell_type": "code",
   "execution_count": 16,
   "metadata": {},
   "outputs": [],
   "source": [
    "log = \"/home/wdecoster/temp/slurm-2201.out\"\n",
    "\n",
    "trees = {}\n",
    "seq_weights = {}\n",
    "\n",
    "with open(log) as f:\n",
    "    for line in f:\n",
    "        if \"DEBUG STRdust::phase_insertions] \" in line and \"with dissimilarity\" in line:\n",
    "            graph = True\n",
    "            name = line.split(' ')[3].rstrip(':')\n",
    "            if name not in trees:\n",
    "                trees[name] = pgv.AGraph(directed=True)\n",
    "                trees[name].node_attr['style']='filled'\n",
    "                seq_weights[name] = {}\n",
    "            node = line.split(' ')[5]\n",
    "            children = (line.split(' ')[11], line.split(' ')[14])\n",
    "            seqs = (line.split(' ')[12], line.split(' ')[15].rstrip('\\n'))\n",
    "            trees[name].add_edge(node, children[0])\n",
    "            trees[name].add_edge(node, children[1])\n",
    "            for child, seq in zip(children, seqs):\n",
    "                if len(seq) > 2:\n",
    "                    seq_weights[name][child] = len(seq)\n",
    "        if \"Roots for this tree:\" in line:\n",
    "            name = line.split(' ')[3].rstrip(':')\n",
    "            for root in line.split(':')[-1].replace(' ', '').replace('\\n', '').replace('[', '').replace(']', '').split(','):\n",
    "                n = trees[name].get_node(root)\n",
    "                n.attr['fillcolor']=\"#CCCCFF\"\n",
    "    for label, G in trees.items():\n",
    "        maxlength = max(seq_weights[label].values())\n",
    "        for node, length in seq_weights[label].items():\n",
    "            color = int((length / maxlength) * 255)\n",
    "            n = G.get_node(node)\n",
    "            n.attr['fillcolor']=\"#%02x%02x%02x\" % (255, 255 - color, 255 - color)\n",
    "        G.layout(prog='dot')\n",
    "        G.draw(f\"graph_{label}.png\")\n",
    "        \n"
   ]
  },
  {
   "cell_type": "code",
   "execution_count": 10,
   "metadata": {},
   "outputs": [
    {
     "data": {
      "text/plain": [
       "'/home/wdecoster/wsl-repos/STRdust/misc'"
      ]
     },
     "execution_count": 10,
     "metadata": {},
     "output_type": "execute_result"
    }
   ],
   "source": [
    "import os\n",
    "os.getcwd()"
   ]
  }
 ],
 "metadata": {
  "kernelspec": {
   "display_name": "base",
   "language": "python",
   "name": "python3"
  },
  "language_info": {
   "codemirror_mode": {
    "name": "ipython",
    "version": 3
   },
   "file_extension": ".py",
   "mimetype": "text/x-python",
   "name": "python",
   "nbconvert_exporter": "python",
   "pygments_lexer": "ipython3",
   "version": "3.9.13"
  },
  "orig_nbformat": 4
 },
 "nbformat": 4,
 "nbformat_minor": 2
}
